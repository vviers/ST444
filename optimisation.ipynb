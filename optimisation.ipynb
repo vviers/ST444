{
 "cells": [
  {
   "cell_type": "markdown",
   "metadata": {},
   "source": [
    "# Optimisation methods\n",
    "\n",
    "## Bissection Algorithm"
   ]
  },
  {
   "cell_type": "code",
   "execution_count": 1,
   "metadata": {},
   "outputs": [
    {
     "name": "stdout",
     "output_type": "stream",
     "text": [
      "Found the minimum in 28 iterations\n"
     ]
    },
    {
     "data": {
      "text/plain": [
       "-1.0000001639127731"
      ]
     },
     "execution_count": 1,
     "metadata": {},
     "output_type": "execute_result"
    }
   ],
   "source": [
    "def bissection_method(function, eps = 10e-7, left = -100, right = 100):\n",
    "    \n",
    "    # define derivative of function\n",
    "    deriv = lambda x: (function(x + 10e-7) - function(x - 10e-7))/2*10e-7\n",
    "    \n",
    "    # check that derivatives lie on opposite sides of 0\n",
    "    assert deriv(right) * deriv(left) < 0, \"Bad starting points!\"\n",
    "    \n",
    "    # implement bissection method\n",
    "    num_iter = 0\n",
    "    while (abs(left - right)) > eps:\n",
    "        num_iter += 1\n",
    "        mid = (right + left) / 2\n",
    "        deriv_mid = deriv(mid)\n",
    "        if deriv_mid == 0:\n",
    "            break\n",
    "        elif deriv_mid > 0:\n",
    "            right = mid\n",
    "        else: left = mid\n",
    "            \n",
    "    print(\"Found the minimum in {} iterations\".format(num_iter))\n",
    "    return (right + left) / 2\n",
    "    \n",
    "bissection_method(lambda x: x**2 + 2*x - 7)"
   ]
  },
  {
   "cell_type": "code",
   "execution_count": 3,
   "metadata": {},
   "outputs": [
    {
     "name": "stdout",
     "output_type": "stream",
     "text": [
      "Found the minimum in 28 iterations\n"
     ]
    },
    {
     "data": {
      "text/plain": [
       "-8.000000193715096"
      ]
     },
     "execution_count": 3,
     "metadata": {},
     "output_type": "execute_result"
    }
   ],
   "source": [
    "bissection_method(lambda x: abs(x + 8))"
   ]
  },
  {
   "cell_type": "code",
   "execution_count": null,
   "metadata": {},
   "outputs": [],
   "source": []
  },
  {
   "cell_type": "code",
   "execution_count": null,
   "metadata": {},
   "outputs": [],
   "source": []
  },
  {
   "cell_type": "code",
   "execution_count": null,
   "metadata": {},
   "outputs": [],
   "source": []
  },
  {
   "cell_type": "code",
   "execution_count": null,
   "metadata": {},
   "outputs": [],
   "source": []
  },
  {
   "cell_type": "code",
   "execution_count": null,
   "metadata": {},
   "outputs": [],
   "source": []
  },
  {
   "cell_type": "markdown",
   "metadata": {},
   "source": [
    "## Find if a number is prime \n",
    "$O(\\sqrt n)$"
   ]
  },
  {
   "cell_type": "code",
   "execution_count": 48,
   "metadata": {},
   "outputs": [
    {
     "name": "stdout",
     "output_type": "stream",
     "text": [
      "11.3 µs ± 71.8 ns per loop (mean ± std. dev. of 7 runs, 100000 loops each)\n"
     ]
    }
   ],
   "source": [
    "%%timeit\n",
    "import numpy as np\n",
    "def isPrime(n):\n",
    "    \n",
    "    for i in range(2, int(np.ceil(np.sqrt(n)))):\n",
    "        if n % i == 0:\n",
    "            return False, \"Divisible by {}\".format(i)\n",
    "    return True\n",
    "\n",
    "isPrime(39769)"
   ]
  },
  {
   "cell_type": "markdown",
   "metadata": {},
   "source": [
    "More clever to only check if `n` is even once."
   ]
  },
  {
   "cell_type": "code",
   "execution_count": 49,
   "metadata": {},
   "outputs": [
    {
     "name": "stdout",
     "output_type": "stream",
     "text": [
      "7.21 µs ± 129 ns per loop (mean ± std. dev. of 7 runs, 100000 loops each)\n"
     ]
    }
   ],
   "source": [
    "%%timeit\n",
    "import numpy as np\n",
    "def isPrime(n):\n",
    "    if n == 2:\n",
    "        return True\n",
    "    if n % 2 == 0:\n",
    "        return False, \"Divisible by 2\"\n",
    "    else:\n",
    "        for i in range(3, int(np.ceil(np.sqrt(n))), 2):\n",
    "            if n % i == 0:\n",
    "                return False, \"Divisible by {}\".format(i)\n",
    "        return True\n",
    "\n",
    "isPrime(39769)"
   ]
  },
  {
   "cell_type": "code",
   "execution_count": null,
   "metadata": {},
   "outputs": [],
   "source": []
  },
  {
   "cell_type": "code",
   "execution_count": null,
   "metadata": {},
   "outputs": [],
   "source": []
  }
 ],
 "metadata": {
  "kernelspec": {
   "display_name": "Python 3",
   "language": "python",
   "name": "python3"
  },
  "language_info": {
   "codemirror_mode": {
    "name": "ipython",
    "version": 3
   },
   "file_extension": ".py",
   "mimetype": "text/x-python",
   "name": "python",
   "nbconvert_exporter": "python",
   "pygments_lexer": "ipython3",
   "version": "3.6.8"
  }
 },
 "nbformat": 4,
 "nbformat_minor": 2
}
